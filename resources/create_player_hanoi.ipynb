{
  "cells": [
    {
      "cell_type": "code",
      "execution_count": null,
      "metadata": {
        "id": "SFNDJ1SSfNVU"
      },
      "outputs": [],
      "source": [
        "# Download and install package\n",
        "!pip install git+https://github.com/jparisu/IArena.git@v0.1"
      ]
    },
    {
      "cell_type": "code",
      "execution_count": null,
      "metadata": {
        "id": "wioHNbdZfce3"
      },
      "outputs": [],
      "source": [
        "# Imports\n",
        "from IArena.arena.GenericGame import BroadcastGame\n",
        "from IArena.players.players import RandomPlayer\n",
        "from IArena.games.Hanoi import HanoiRules, HanoiPosition, HanoiMovement"
      ]
    },
    {
      "cell_type": "code",
      "execution_count": null,
      "metadata": {
        "id": "mi-EZXqDflF0"
      },
      "outputs": [],
      "source": [
        "# Create your own player\n",
        "class MyPlayer:\n",
        "\n",
        "  def __init__(self, rules):\n",
        "    # Store the rules of the game\n",
        "    self.rules = rules\n",
        "\n",
        "  def play(position):\n",
        "    # Code to play\n",
        "    pass"
      ]
    },
    {
      "cell_type": "code",
      "execution_count": null,
      "metadata": {
        "id": "087RDxY1liZ2"
      },
      "outputs": [],
      "source": [
        "# Make your player play in Hanoi\n",
        "rules = HanoiRules()\n",
        "my_champion = MyPlayer(rules)\n",
        "\n",
        "# Broadcast to see the game iterations. If not use GenericGame\n",
        "game = BroadcastGame(rules=rules, players=[my_champion])\n",
        "result = game.play()\n",
        "\n",
        "your_score = result[0]\n",
        "\n",
        "print(f\"CONGRATULATIONS! You got it in {your_score} moves ☚ (<‿<)☚\")"
      ]
    }
  ],
  "metadata": {
    "colab": {
      "provenance": []
    },
    "kernelspec": {
      "display_name": "Python 3",
      "name": "python3"
    },
    "language_info": {
      "name": "python"
    }
  },
  "nbformat": 4,
  "nbformat_minor": 0
}
