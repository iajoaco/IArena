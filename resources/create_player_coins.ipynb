{
  "cells": [
    {
      "cell_type": "code",
      "execution_count": null,
      "metadata": {
        "id": "SFNDJ1SSfNVU"
      },
      "outputs": [],
      "source": [
        "# Download and install package\n",
        "!pip install git+https://github.com/jparisu/IArena.git@v0.1"
      ]
    },
    {
      "cell_type": "code",
      "execution_count": null,
      "metadata": {
        "id": "wioHNbdZfce3"
      },
      "outputs": [],
      "source": [
        "# Imports\n",
        "from IArena.tournaments.GenericGame import BroadcastGame\n",
        "from IArena.players.players import RandomPlayer\n",
        "from IArena.games.Coins import CoinsRules"
      ]
    },
    {
      "cell_type": "code",
      "execution_count": null,
      "metadata": {
        "id": "mi-EZXqDflF0"
      },
      "outputs": [],
      "source": [
        "# Create your own player\n",
        "class MyPlayer:\n",
        "  def play(position):\n",
        "    # Code to play\n",
        "    pass\n",
        "\n",
        "my_champion = MyPlayer()"
      ]
    },
    {
      "cell_type": "code",
      "execution_count": null,
      "metadata": {
        "id": "087RDxY1liZ2"
      },
      "outputs": [],
      "source": [
        "# Make your player play against a random player\n",
        "rules = CoinsRules()\n",
        "game = BroadcastGame(rules=rules, players=[my_champion, RandomPlayer(rules, 1)])\n",
        "result = game.play()\n",
        "\n",
        "your_score = result[0]\n",
        "other_score = result[1]\n",
        "\n",
        "if your_score > other_score:\n",
        "  print(\"CONGRATULATIONS! ☚ (<‿<)☚\")\n",
        "else:\n",
        "  print(\"You lost against a random player (-_-)\")"
      ]
    },
    {
      "cell_type": "code",
      "execution_count": null,
      "metadata": {
        "id": "PiUtrMRmfm0Q"
      },
      "outputs": [],
      "source": []
    }
  ],
  "metadata": {
    "colab": {
      "provenance": []
    },
    "kernelspec": {
      "display_name": "Python 3",
      "name": "python3"
    },
    "language_info": {
      "name": "python"
    }
  },
  "nbformat": 4,
  "nbformat_minor": 0
}
