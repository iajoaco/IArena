{
  "nbformat": 4,
  "nbformat_minor": 0,
  "metadata": {
    "colab": {
      "provenance": []
    },
    "kernelspec": {
      "name": "python3",
      "display_name": "Python 3"
    },
    "language_info": {
      "name": "python"
    }
  },
  "cells": [
    {
      "cell_type": "code",
      "execution_count": null,
      "metadata": {
        "id": "SFNDJ1SSfNVU"
      },
      "outputs": [],
      "source": [
        "# Download and install package\n",
        "!pip install git+https://github.com/jparisu/IArena.git"
      ]
    },
    {
      "cell_type": "code",
      "source": [
        "# Imports\n",
        "from IArena.tournaments.GenericGame import BroadcastGame\n",
        "from IArena.players.players import RandomPlayer\n",
        "from IArena.games.Coins import CoinsRules"
      ],
      "metadata": {
        "id": "wioHNbdZfce3"
      },
      "execution_count": null,
      "outputs": []
    },
    {
      "cell_type": "code",
      "source": [
        "# Create your own player\n",
        "class MyPlayer:\n",
        "  def play(position):\n",
        "    # Code to play\n",
        "    pass\n",
        "\n",
        "my_champion = MyPlayer()"
      ],
      "metadata": {
        "id": "mi-EZXqDflF0"
      },
      "execution_count": null,
      "outputs": []
    },
    {
      "cell_type": "code",
      "source": [
        "# Make your player play against a random player\n",
        "rules = CoinsRules()\n",
        "game = BroadcastGame(rules=rules, players=[my_champion, RandomPlayer(rules, 1)])\n",
        "result = game.play()\n",
        "\n",
        "your_score = result[0]\n",
        "other_score = result[1]\n",
        "\n",
        "if your_score > other_score:\n",
        "  print(\"CONGRATULATIONS! ☚ (<‿<)☚\")\n",
        "else:\n",
        "  print(\"You lost against a random player (-_-)\")"
      ],
      "metadata": {
        "id": "087RDxY1liZ2"
      },
      "execution_count": null,
      "outputs": []
    },
    {
      "cell_type": "code",
      "source": [],
      "metadata": {
        "id": "PiUtrMRmfm0Q"
      },
      "execution_count": null,
      "outputs": []
    }
  ]
}